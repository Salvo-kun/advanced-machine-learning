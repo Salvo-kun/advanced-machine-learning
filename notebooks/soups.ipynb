{
 "cells": [
  {
   "cell_type": "code",
   "execution_count": 1,
   "metadata": {},
   "outputs": [],
   "source": [
    "import sys\n",
    "from pathlib import Path\n",
    "sys.path.append(str(Path.cwd().parent))"
   ]
  },
  {
   "cell_type": "code",
   "execution_count": 16,
   "metadata": {},
   "outputs": [],
   "source": [
    "import torch\n",
    "import os\n",
    "import util\n",
    "import json\n",
    "\n",
    "BASE_PATH = '../logs'\n",
    "train_datasets = ['sf_xs']\n",
    "test_datasets = ['tokyo_xs', 'tokyo_night']\n",
    "variants = ['standard', 'seed_3', 'cl_lr_e-3', 'attention', 'toDay']\n",
    "losses = ['cosface', 'sphereface', 'arcface', 'gamp']\n",
    "models = [f'{loss}_{variant}' for loss in losses for variant in variants]\n",
    "recalls = { m: { d: 0.0 for d in (train_datasets + test_datasets) } for m in models if m not in [f'{loss}_toDay' for loss in losses if loss != 'cosface'] }\n",
    "\n",
    "for folder in os.listdir(BASE_PATH):\n",
    "    loss = folder.split('_')[1]\n",
    "    if str(folder).startswith('train'):\n",
    "        for dataset in train_datasets:\n",
    "            for idx, results in enumerate(os.listdir(f'{BASE_PATH}/{folder}')[2::3]):\n",
    "                variant = variants[idx]\n",
    "                file_path = f'{BASE_PATH}/{folder}/{results}/info.log'\n",
    "                model = f'{loss}_{variant}'\n",
    "                # print(f'{dataset}: {model} at {file_path}')\n",
    "                with open(file_path) as f:\n",
    "                    recalls[model][dataset] = float(next((l.split('>: ')[1].split(',')[0].split(': ')[1] for l in f.readlines() if 'R@1' in l and 'test' in l), 0.0))           \n",
    "                    recalls[model]['path'] = f'{BASE_PATH}/{folder}/{results}/best_model.pth'        \n",
    "    elif str(folder).startswith('test'):\n",
    "        for dataset in test_datasets:\n",
    "            for idx, results in enumerate(os.listdir(f'{BASE_PATH}/{folder}/{dataset}')):\n",
    "                variant = variants[idx]\n",
    "                file_path = f'{BASE_PATH}/{folder}/{dataset}/{results}/info.log'\n",
    "                model = f'{loss}_{variant}'\n",
    "                # print(f'{dataset}: {model} at {file_path}')\n",
    "                with open(file_path) as f:\n",
    "                    recalls[model][dataset] = float(next((l.split('>: ')[1].split(',')[0].split(': ')[1] for l in f.readlines() if 'R@1' in l and 'test' in l), 0.0))          \n",
    "\n",
    "recalls = dict(sorted(recalls.items(), key=lambda i: tuple(i[1][d] for d in (train_datasets + test_datasets)), reverse=True))\n",
    "# recalls = dict(sorted(recalls.items(), key=lambda i: tuple(i[1][d] for d in (test_datasets + train_datasets)), reverse=True))\n",
    "# recalls = dict(sorted(recalls.items(), key=lambda i: tuple(i[1][d] for d in reversed(train_datasets + test_datasets)), reverse=True))\n",
    "with open('../results/individual_models.json', 'w') as f:\n",
    "    json.dump(recalls, f, indent=4)"
   ]
  },
  {
   "cell_type": "code",
   "execution_count": 14,
   "metadata": {},
   "outputs": [
    {
     "name": "stdout",
     "output_type": "stream",
     "text": [
      "Sorting by sf_xs test desc\n",
      "F:/Programmazione/git/advanced-machine-learning/logs/train_arcface/2023-01-12_15-32-47/best_model.pth F:/Programmazione/git/advanced-machine-learning/logs/train_gamp/2023-01-11_15-26-26/best_model.pth F:/Programmazione/git/advanced-machine-learning/logs/train_sphereface/2023-01-13_12-24-32/best_model.pth F:/Programmazione/git/advanced-machine-learning/logs/train_sphereface/2023-01-10_12-32-50/best_model.pth F:/Programmazione/git/advanced-machine-learning/logs/train_cosface/2023-01-12_08-59-21/best_model.pth F:/Programmazione/git/advanced-machine-learning/logs/train_cosface/2023-01-09_10-21-22/best_model.pth F:/Programmazione/git/advanced-machine-learning/logs/train_gamp/2023-01-11_10-12-16/best_model.pth F:/Programmazione/git/advanced-machine-learning/logs/train_sphereface/2023-01-07_13-16-38/best_model.pth F:/Programmazione/git/advanced-machine-learning/logs/train_arcface/2023-01-06_16-41-53/best_model.pth F:/Programmazione/git/advanced-machine-learning/logs/train_gamp/2023-01-08_13-55-29/best_model.pth F:/Programmazione/git/advanced-machine-learning/logs/train_arcface/2023-01-09_18-13-52/best_model.pth F:/Programmazione/git/advanced-machine-learning/logs/train_cosface/2023-01-06_10-23-42/best_model.pth\n",
      "Sorting by tokyo_xs test desc\n",
      "F:/Programmazione/git/advanced-machine-learning/logs/train_sphereface/2023-01-10_12-32-50/best_model.pth F:/Programmazione/git/advanced-machine-learning/logs/train_gamp/2023-01-08_13-55-29/best_model.pth F:/Programmazione/git/advanced-machine-learning/logs/train_cosface/2023-01-09_10-21-22/best_model.pth F:/Programmazione/git/advanced-machine-learning/logs/train_gamp/2023-01-11_10-12-16/best_model.pth F:/Programmazione/git/advanced-machine-learning/logs/train_sphereface/2023-01-13_12-24-32/best_model.pth F:/Programmazione/git/advanced-machine-learning/logs/train_cosface/2023-01-06_10-23-42/best_model.pth F:/Programmazione/git/advanced-machine-learning/logs/train_sphereface/2023-01-07_13-16-38/best_model.pth F:/Programmazione/git/advanced-machine-learning/logs/train_arcface/2023-01-06_16-41-53/best_model.pth F:/Programmazione/git/advanced-machine-learning/logs/train_arcface/2023-01-12_15-32-47/best_model.pth F:/Programmazione/git/advanced-machine-learning/logs/train_arcface/2023-01-09_18-13-52/best_model.pth F:/Programmazione/git/advanced-machine-learning/logs/train_cosface/2023-01-12_08-59-21/best_model.pth F:/Programmazione/git/advanced-machine-learning/logs/train_gamp/2023-01-11_15-26-26/best_model.pth\n",
      "Sorting by tokyo_night test desc\n",
      "F:/Programmazione/git/advanced-machine-learning/logs/train_sphereface/2023-01-10_12-32-50/best_model.pth F:/Programmazione/git/advanced-machine-learning/logs/train_arcface/2023-01-09_18-13-52/best_model.pth F:/Programmazione/git/advanced-machine-learning/logs/train_cosface/2023-01-09_10-21-22/best_model.pth F:/Programmazione/git/advanced-machine-learning/logs/train_gamp/2023-01-11_10-12-16/best_model.pth F:/Programmazione/git/advanced-machine-learning/logs/train_arcface/2023-01-06_16-41-53/best_model.pth F:/Programmazione/git/advanced-machine-learning/logs/train_arcface/2023-01-12_15-32-47/best_model.pth F:/Programmazione/git/advanced-machine-learning/logs/train_gamp/2023-01-08_13-55-29/best_model.pth F:/Programmazione/git/advanced-machine-learning/logs/train_sphereface/2023-01-07_13-16-38/best_model.pth F:/Programmazione/git/advanced-machine-learning/logs/train_sphereface/2023-01-13_12-24-32/best_model.pth F:/Programmazione/git/advanced-machine-learning/logs/train_cosface/2023-01-06_10-23-42/best_model.pth F:/Programmazione/git/advanced-machine-learning/logs/train_cosface/2023-01-12_08-59-21/best_model.pth F:/Programmazione/git/advanced-machine-learning/logs/train_gamp/2023-01-11_15-26-26/best_model.pth\n"
     ]
    }
   ],
   "source": [
    "sf_xs_sorted_models = []\n",
    "tokyo_xs_sorted_models = []\n",
    "tokyo_night_sorted_models = []\n",
    "\n",
    "print('Sorting by sf_xs test desc')\n",
    "for m in dict(sorted(recalls.items(), key=lambda i: tuple(i[1][d] for d in (train_datasets + test_datasets)), reverse=True)):\n",
    "    if 'attention' not in m:\n",
    "        sf_xs_sorted_models.append(recalls[m]['path'])\n",
    "print(' '.join([p for p in sf_xs_sorted_models]))\n",
    "\n",
    "print('Sorting by tokyo_xs test desc')\n",
    "for m in dict(sorted(recalls.items(), key=lambda i: tuple(i[1][d] for d in (test_datasets + train_datasets)), reverse=True)):\n",
    "    if 'attention' not in m:\n",
    "        tokyo_xs_sorted_models.append(recalls[m]['path'])\n",
    "print(' '.join([p for p in tokyo_xs_sorted_models]))\n",
    "\n",
    "print('Sorting by tokyo_night test desc')\n",
    "for m in dict(sorted(recalls.items(), key=lambda i: tuple(i[1][d] for d in reversed(train_datasets + test_datasets)), reverse=True)):\n",
    "    if 'attention' not in m:\n",
    "        tokyo_night_sorted_models.append(recalls[m]['path'])\n",
    "print(' '.join([p for p in tokyo_night_sorted_models]))"
   ]
  },
  {
   "cell_type": "code",
   "execution_count": 3,
   "metadata": {},
   "outputs": [
    {
     "name": "stdout",
     "output_type": "stream",
     "text": [
      "Namespace(M=10, alpha=30, N=5, L=2, groups_num=8, min_images_per_class=10, backbone='ResNet18', fc_output_dim=512, use_amp16=False, augmentation_device='cuda', batch_size=32, epochs_num=50, iterations_per_epoch=10000, lr=1e-05, classifiers_lr=0.01, brightness=0.7, contrast=0.7, hue=0.5, saturation=0.7, random_resized_crop=0.5, infer_batch_size=16, positive_dist_threshold=25, resume_train=None, resume_model=None, device='cuda', seed=0, num_workers=4, dataset_folder=None, save_dir='default', loss_type='cosface', save_descriptors=False)\n",
      "Evaluating on sf_xs.\n"
     ]
    },
    {
     "name": "stderr",
     "output_type": "stream",
     "text": [
      "100%|███████████████████████████████████████████████████████████| 1700/1700 [03:14<00:00,  8.74it/s]\n",
      "100%|███████████████████████████████████████████████████████████| 1000/1000 [00:25<00:00, 39.72it/s]\n"
     ]
    },
    {
     "name": "stdout",
     "output_type": "stream",
     "text": [
      "[49.3 62.6 67.8 72.8]\n",
      "Evaluating on tokyo_xs.\n"
     ]
    },
    {
     "name": "stderr",
     "output_type": "stream",
     "text": [
      "100%|█████████████████████████████████████████████████████████████| 799/799 [02:29<00:00,  5.36it/s]\n",
      "100%|█████████████████████████████████████████████████████████████| 315/315 [00:14<00:00, 21.00it/s]\n"
     ]
    },
    {
     "name": "stdout",
     "output_type": "stream",
     "text": [
      "[65.3968254  80.31746032 85.07936508 90.15873016]\n",
      "Evaluating on tokyo_night.\n"
     ]
    },
    {
     "name": "stderr",
     "output_type": "stream",
     "text": [
      "100%|█████████████████████████████████████████████████████████████| 799/799 [01:51<00:00,  7.19it/s]\n",
      "100%|█████████████████████████████████████████████████████████████| 105/105 [00:12<00:00,  8.21it/s]"
     ]
    },
    {
     "name": "stdout",
     "output_type": "stream",
     "text": [
      "[46.66666667 64.76190476 74.28571429 81.9047619 ]\n"
     ]
    },
    {
     "name": "stderr",
     "output_type": "stream",
     "text": [
      "\n"
     ]
    }
   ],
   "source": [
    "import torch\n",
    "import os\n",
    "import util\n",
    "import json\n",
    "import test\n",
    "from datasets.test_dataset import TestDataset\n",
    "import argparse\n",
    "from model import network\n",
    "\n",
    "BASE_OUT_PATH = 'logs/soups_models/uniform'\n",
    "BASE_DS_PATH = f\"F:/Programmazione/Politecnico/Master's Degree/2nd Year/AML/Project/Datasets\"\n",
    "\n",
    "NUM_MODELS = len(recalls)\n",
    "\n",
    "parser = argparse.ArgumentParser(formatter_class=argparse.ArgumentDefaultsHelpFormatter)\n",
    "# CosPlace Groups parameters\n",
    "parser.add_argument(\"--M\", type=int, default=10, help=\"_\")\n",
    "parser.add_argument(\"--alpha\", type=int, default=30, help=\"_\")\n",
    "parser.add_argument(\"--N\", type=int, default=5, help=\"_\")\n",
    "parser.add_argument(\"--L\", type=int, default=2, help=\"_\")\n",
    "parser.add_argument(\"--groups_num\", type=int, default=8, help=\"_\")\n",
    "parser.add_argument(\"--min_images_per_class\", type=int, default=10, help=\"_\")\n",
    "# Model parameters\n",
    "parser.add_argument(\"--backbone\", type=str, default=\"ResNet18\",\n",
    "                    choices=[\"vgg16\", \"resnet18\", \"resnet50\", \"resnet101\", \"resnet152\"], help=\"_\")\n",
    "parser.add_argument(\"--fc_output_dim\", type=int, default=512,\n",
    "                    help=\"Output dimension of final fully connected layer\")\n",
    "# Training parameters\n",
    "parser.add_argument(\"--use_amp16\", action=\"store_true\",\n",
    "                    help=\"use Automatic Mixed Precision\")\n",
    "parser.add_argument(\"--augmentation_device\", type=str, default=\"cuda\",\n",
    "                    choices=[\"cuda\", \"cpu\"],\n",
    "                    help=\"on which device to run data augmentation\")\n",
    "parser.add_argument(\"--batch_size\", type=int, default=32, help=\"_\")\n",
    "parser.add_argument(\"--epochs_num\", type=int, default=50, help=\"_\")\n",
    "parser.add_argument(\"--iterations_per_epoch\", type=int, default=10000, help=\"_\")\n",
    "parser.add_argument(\"--lr\", type=float, default=0.00001, help=\"_\")\n",
    "parser.add_argument(\"--classifiers_lr\", type=float, default=0.01, help=\"_\")\n",
    "# Data augmentation\n",
    "parser.add_argument(\"--brightness\", type=float, default=0.7, help=\"_\")\n",
    "parser.add_argument(\"--contrast\", type=float, default=0.7, help=\"_\")\n",
    "parser.add_argument(\"--hue\", type=float, default=0.5, help=\"_\")\n",
    "parser.add_argument(\"--saturation\", type=float, default=0.7, help=\"_\")\n",
    "parser.add_argument(\"--random_resized_crop\", type=float, default=0.5, help=\"_\")\n",
    "# Validation / test parameters\n",
    "parser.add_argument(\"--infer_batch_size\", type=int, default=16,\n",
    "                    help=\"Batch size for inference (validating and testing)\")\n",
    "parser.add_argument(\"--positive_dist_threshold\", type=int, default=25,\n",
    "                    help=\"distance in meters for a prediction to be considered a positive\")\n",
    "# Resume parameters\n",
    "parser.add_argument(\"--resume_train\", type=str, default=None,\n",
    "                    help=\"path to checkpoint to resume, e.g. logs/.../last_checkpoint.pth\")\n",
    "parser.add_argument(\"--resume_model\", type=str, default=None,\n",
    "                    help=\"path to model to resume, e.g. logs/.../best_model.pth\")\n",
    "# Other parameters\n",
    "parser.add_argument(\"--device\", type=str, default=\"cuda\",\n",
    "                    choices=[\"cuda\", \"cpu\"], help=\"_\")\n",
    "parser.add_argument(\"--seed\", type=int, default=0, help=\"_\")\n",
    "parser.add_argument(\"--num_workers\", type=int, default=4, help=\"_\")\n",
    "# Paths parameters\n",
    "parser.add_argument(\"--dataset_folder\", type=str, default=None,\n",
    "                    help=\"path of the folder with train/val/test sets\")\n",
    "parser.add_argument(\"--save_dir\", type=str, default=\"default\",\n",
    "                    help=\"name of directory on which to save the logs, under logs/save_dir\")    \n",
    "# Loss type\n",
    "parser.add_argument(\"--loss_type\", type=str, default=\"cosface\",\n",
    "                    choices=[\"cosface\", \"arcface\", \"sphereface\", \"gamp\"], help=\"type of loss to be used during training\")\n",
    "\n",
    "args = parser.parse_args(\"\")\n",
    "args.save_descriptors = False        \n",
    "\n",
    "print(args)\n",
    "\n",
    "if os.path.exists(f'{BASE_OUT_PATH}/uniform_soup_N{NUM_MODELS}.pth'):\n",
    "    uniform_soup = torch.load(f'{BASE_OUT_PATH}/uniform_soup_N{NUM_MODELS}.pth')\n",
    "else:\n",
    "    for j, model_name in enumerate(recalls):\n",
    "\n",
    "        print(f'Adding model {model_name} ({j+1} out of {NUM_MODELS}) to uniform soup.')\n",
    "        model_path = recalls[model_name]['path']\n",
    "        assert os.path.exists(model_path)\n",
    "        state_dict = torch.load(model_path)\n",
    "        if j == 0:\n",
    "            uniform_soup = {k : v * (1./NUM_MODELS) for k, v in state_dict.items()}\n",
    "        else:\n",
    "            uniform_soup = {k : v * (1./NUM_MODELS) + uniform_soup[k] for k, v in state_dict.items()}\n",
    "\n",
    "    torch.save(uniform_soup, f'{BASE_OUT_PATH}/uniform_soup_N{NUM_MODELS}.pth')\n",
    "\n",
    "# Finally, evaluate the uniform soup.\n",
    "model = network.GeoLocalizationNet(args.backbone, args.fc_output_dim)\n",
    "model.load_state_dict(uniform_soup)\n",
    "model.to(args.device)\n",
    "\n",
    "if os.path.exists('uniform_soups.json'):\n",
    "    with open('uniform_soups.json', 'r') as f:\n",
    "        uniform_recalls = json.load(f)\n",
    "else:\n",
    "    uniform_recalls = dict()  \n",
    "uniform_recalls[f'uniform_soup_N{NUM_MODELS}'] = { }\n",
    "\n",
    "for dataset in (train_datasets + test_datasets):\n",
    "    print(f'Evaluating on {dataset}.')\n",
    "    test_dataset = TestDataset(f'{BASE_DS_PATH}/{dataset}/test', queries_folder='queries_v1')\n",
    "    recs, recalls_str = test.test(args, test_dataset, model)\n",
    "    uniform_recalls[f'uniform_soup_N{NUM_MODELS}'][dataset] = recs[0]\n",
    "    print(recs)\n",
    "\n",
    "with open('uniform_soups.json', 'w') as f:\n",
    "    json.dump(uniform_recalls, f, indent=4)"
   ]
  },
  {
   "cell_type": "code",
   "execution_count": 20,
   "metadata": {},
   "outputs": [
    {
     "name": "stdout",
     "output_type": "stream",
     "text": [
      "Namespace(M=10, alpha=30, N=5, L=2, groups_num=8, min_images_per_class=10, backbone='resnet18', fc_output_dim=512, use_amp16=False, augmentation_device='cuda', batch_size=32, epochs_num=50, iterations_per_epoch=10000, lr=1e-05, classifiers_lr=0.01, brightness=0.7, contrast=0.7, hue=0.5, saturation=0.7, random_resized_crop=0.5, infer_batch_size=16, positive_dist_threshold=25, resume_train=None, resume_model=None, device='cuda', seed=0, num_workers=4, dataset_folder=None, save_dir='default', loss_type='cosface', save_descriptors=False)\n",
      "Init with model 1 of 12\n",
      "Testing model 2 of 12\n"
     ]
    },
    {
     "name": "stderr",
     "output_type": "stream",
     "text": [
      "f:\\Programmazione\\git\\advanced-machine-learning\\venv\\lib\\site-packages\\torchvision\\models\\_utils.py:208: UserWarning: The parameter 'pretrained' is deprecated since 0.13 and may be removed in the future, please use 'weights' instead.\n",
      "  warnings.warn(\n",
      "f:\\Programmazione\\git\\advanced-machine-learning\\venv\\lib\\site-packages\\torchvision\\models\\_utils.py:223: UserWarning: Arguments other than a weight enum or `None` for 'weights' are deprecated since 0.13 and may be removed in the future. The current behavior is equivalent to passing `weights=ResNet18_Weights.IMAGENET1K_V1`. You can also use `weights=ResNet18_Weights.DEFAULT` to get the most up-to-date weights.\n",
      "  warnings.warn(msg)\n",
      "100%|█████████████████████████████████████████████████████████████| 799/799 [02:00<00:00,  6.66it/s]\n",
      "100%|█████████████████████████████████████████████████████████████| 105/105 [00:12<00:00,  8.45it/s]\n"
     ]
    },
    {
     "name": "stdout",
     "output_type": "stream",
     "text": [
      "Potential greedy soup val acc 55.23809523809524, best so far 57.1.\n",
      "Testing model 3 of 12\n"
     ]
    },
    {
     "name": "stderr",
     "output_type": "stream",
     "text": [
      "100%|█████████████████████████████████████████████████████████████| 799/799 [01:59<00:00,  6.66it/s]\n",
      "100%|█████████████████████████████████████████████████████████████| 105/105 [00:12<00:00,  8.40it/s]\n"
     ]
    },
    {
     "name": "stdout",
     "output_type": "stream",
     "text": [
      "Potential greedy soup val acc 56.19047619047619, best so far 57.1.\n",
      "Testing model 4 of 12\n"
     ]
    },
    {
     "name": "stderr",
     "output_type": "stream",
     "text": [
      "100%|█████████████████████████████████████████████████████████████| 799/799 [01:59<00:00,  6.68it/s]\n",
      "100%|█████████████████████████████████████████████████████████████| 105/105 [00:12<00:00,  8.38it/s]\n"
     ]
    },
    {
     "name": "stdout",
     "output_type": "stream",
     "text": [
      "Potential greedy soup val acc 50.476190476190474, best so far 57.1.\n",
      "Testing model 5 of 12\n"
     ]
    },
    {
     "name": "stderr",
     "output_type": "stream",
     "text": [
      "100%|█████████████████████████████████████████████████████████████| 799/799 [01:59<00:00,  6.70it/s]\n",
      "100%|█████████████████████████████████████████████████████████████| 105/105 [00:12<00:00,  8.47it/s]\n"
     ]
    },
    {
     "name": "stdout",
     "output_type": "stream",
     "text": [
      "Potential greedy soup val acc 53.333333333333336, best so far 57.1.\n",
      "Testing model 6 of 12\n"
     ]
    },
    {
     "name": "stderr",
     "output_type": "stream",
     "text": [
      "100%|█████████████████████████████████████████████████████████████| 799/799 [01:55<00:00,  6.94it/s]\n",
      "100%|█████████████████████████████████████████████████████████████| 105/105 [00:12<00:00,  8.23it/s]\n"
     ]
    },
    {
     "name": "stdout",
     "output_type": "stream",
     "text": [
      "Potential greedy soup val acc 53.333333333333336, best so far 57.1.\n",
      "Testing model 7 of 12\n"
     ]
    },
    {
     "name": "stderr",
     "output_type": "stream",
     "text": [
      "100%|█████████████████████████████████████████████████████████████| 799/799 [01:46<00:00,  7.50it/s]\n",
      "100%|█████████████████████████████████████████████████████████████| 105/105 [00:12<00:00,  8.43it/s]\n"
     ]
    },
    {
     "name": "stdout",
     "output_type": "stream",
     "text": [
      "Potential greedy soup val acc 53.333333333333336, best so far 57.1.\n",
      "Testing model 8 of 12\n"
     ]
    },
    {
     "name": "stderr",
     "output_type": "stream",
     "text": [
      "100%|█████████████████████████████████████████████████████████████| 799/799 [01:48<00:00,  7.37it/s]\n",
      "100%|█████████████████████████████████████████████████████████████| 105/105 [00:12<00:00,  8.46it/s]\n"
     ]
    },
    {
     "name": "stdout",
     "output_type": "stream",
     "text": [
      "Potential greedy soup val acc 53.333333333333336, best so far 57.1.\n",
      "Testing model 9 of 12\n"
     ]
    },
    {
     "name": "stderr",
     "output_type": "stream",
     "text": [
      "100%|█████████████████████████████████████████████████████████████| 799/799 [01:43<00:00,  7.72it/s]\n",
      "100%|█████████████████████████████████████████████████████████████| 105/105 [00:12<00:00,  8.69it/s]\n"
     ]
    },
    {
     "name": "stdout",
     "output_type": "stream",
     "text": [
      "Potential greedy soup val acc 58.0952380952381, best so far 57.1.\n",
      "Adding to soup. New soup is ['sphereface_seed_3', 'sphereface_cl_lr_e-3']\n",
      "Testing model 10 of 12\n"
     ]
    },
    {
     "name": "stderr",
     "output_type": "stream",
     "text": [
      "100%|█████████████████████████████████████████████████████████████| 799/799 [01:43<00:00,  7.73it/s]\n",
      "100%|█████████████████████████████████████████████████████████████| 105/105 [00:12<00:00,  8.68it/s]\n"
     ]
    },
    {
     "name": "stdout",
     "output_type": "stream",
     "text": [
      "Potential greedy soup val acc 50.476190476190474, best so far 58.0952380952381.\n",
      "Testing model 11 of 12\n"
     ]
    },
    {
     "name": "stderr",
     "output_type": "stream",
     "text": [
      "100%|█████████████████████████████████████████████████████████████| 799/799 [01:43<00:00,  7.69it/s]\n",
      "100%|█████████████████████████████████████████████████████████████| 105/105 [00:12<00:00,  8.74it/s]\n"
     ]
    },
    {
     "name": "stdout",
     "output_type": "stream",
     "text": [
      "Potential greedy soup val acc 53.333333333333336, best so far 58.0952380952381.\n",
      "Testing model 12 of 12\n"
     ]
    },
    {
     "name": "stderr",
     "output_type": "stream",
     "text": [
      "100%|█████████████████████████████████████████████████████████████| 799/799 [01:43<00:00,  7.74it/s]\n",
      "100%|█████████████████████████████████████████████████████████████| 105/105 [00:11<00:00,  8.78it/s]\n"
     ]
    },
    {
     "name": "stdout",
     "output_type": "stream",
     "text": [
      "Potential greedy soup val acc 53.333333333333336, best so far 58.0952380952381.\n",
      "Final soup is ['sphereface_seed_3', 'sphereface_cl_lr_e-3']\n",
      "Evaluating on sf_xs.\n"
     ]
    },
    {
     "name": "stderr",
     "output_type": "stream",
     "text": [
      "100%|███████████████████████████████████████████████████████████| 1700/1700 [02:56<00:00,  9.62it/s]\n",
      "100%|███████████████████████████████████████████████████████████| 1000/1000 [00:23<00:00, 43.35it/s]\n"
     ]
    },
    {
     "name": "stdout",
     "output_type": "stream",
     "text": [
      "[48.5 63.2 68.2 72.2]\n",
      "Evaluating on tokyo_xs.\n"
     ]
    },
    {
     "name": "stderr",
     "output_type": "stream",
     "text": [
      "100%|█████████████████████████████████████████████████████████████| 799/799 [01:43<00:00,  7.75it/s]\n",
      "100%|█████████████████████████████████████████████████████████████| 315/315 [00:14<00:00, 21.72it/s]\n"
     ]
    },
    {
     "name": "stdout",
     "output_type": "stream",
     "text": [
      "[70.47619048 85.3968254  87.93650794 90.79365079]\n",
      "Evaluating on tokyo_night.\n"
     ]
    },
    {
     "name": "stderr",
     "output_type": "stream",
     "text": [
      "100%|█████████████████████████████████████████████████████████████| 799/799 [01:45<00:00,  7.60it/s]\n",
      "100%|█████████████████████████████████████████████████████████████| 105/105 [00:12<00:00,  8.49it/s]"
     ]
    },
    {
     "name": "stdout",
     "output_type": "stream",
     "text": [
      "[58.0952381  72.38095238 77.14285714 81.9047619 ]\n"
     ]
    },
    {
     "name": "stderr",
     "output_type": "stream",
     "text": [
      "\n"
     ]
    }
   ],
   "source": [
    "import torch\n",
    "from itertools import islice\n",
    "from datasets.test_dataset import TestDataset\n",
    "from model import network\n",
    "import test\n",
    "import argparse\n",
    "\n",
    "NUM_MODELS = 12\n",
    "BASE_DS_PATH = f\"F:/Programmazione/Politecnico/Master's Degree/2nd Year/AML/Project/Datasets\"\n",
    "BASE_OUT_PATH = 'logs/soups_models/greedy'\n",
    "chosen_dataset = ('tokyo_night', 'test')\n",
    "TOKYO_XS_DATASET_VAL_PATH = f\"{BASE_DS_PATH}/{chosen_dataset[0]}/{chosen_dataset[1]}\"\n",
    "held_out_val_set = TestDataset(TOKYO_XS_DATASET_VAL_PATH, queries_folder=\"queries_v1\")\n",
    "\n",
    "parser = argparse.ArgumentParser(formatter_class=argparse.ArgumentDefaultsHelpFormatter)\n",
    "# CosPlace Groups parameters\n",
    "parser.add_argument(\"--M\", type=int, default=10, help=\"_\")\n",
    "parser.add_argument(\"--alpha\", type=int, default=30, help=\"_\")\n",
    "parser.add_argument(\"--N\", type=int, default=5, help=\"_\")\n",
    "parser.add_argument(\"--L\", type=int, default=2, help=\"_\")\n",
    "parser.add_argument(\"--groups_num\", type=int, default=8, help=\"_\")\n",
    "parser.add_argument(\"--min_images_per_class\", type=int, default=10, help=\"_\")\n",
    "# Model parameters\n",
    "parser.add_argument(\"--backbone\", type=str, default=\"ResNet18\",\n",
    "                    choices=[\"vgg16\", \"resnet18\", \"resnet50\", \"resnet101\", \"resnet152\"], help=\"_\")\n",
    "parser.add_argument(\"--fc_output_dim\", type=int, default=512,\n",
    "                    help=\"Output dimension of final fully connected layer\")\n",
    "# Training parameters\n",
    "parser.add_argument(\"--use_amp16\", action=\"store_true\",\n",
    "                    help=\"use Automatic Mixed Precision\")\n",
    "parser.add_argument(\"--augmentation_device\", type=str, default=\"cuda\",\n",
    "                    choices=[\"cuda\", \"cpu\"],\n",
    "                    help=\"on which device to run data augmentation\")\n",
    "parser.add_argument(\"--batch_size\", type=int, default=32, help=\"_\")\n",
    "parser.add_argument(\"--epochs_num\", type=int, default=50, help=\"_\")\n",
    "parser.add_argument(\"--iterations_per_epoch\", type=int, default=10000, help=\"_\")\n",
    "parser.add_argument(\"--lr\", type=float, default=0.00001, help=\"_\")\n",
    "parser.add_argument(\"--classifiers_lr\", type=float, default=0.01, help=\"_\")\n",
    "# Data augmentation\n",
    "parser.add_argument(\"--brightness\", type=float, default=0.7, help=\"_\")\n",
    "parser.add_argument(\"--contrast\", type=float, default=0.7, help=\"_\")\n",
    "parser.add_argument(\"--hue\", type=float, default=0.5, help=\"_\")\n",
    "parser.add_argument(\"--saturation\", type=float, default=0.7, help=\"_\")\n",
    "parser.add_argument(\"--random_resized_crop\", type=float, default=0.5, help=\"_\")\n",
    "# Validation / test parameters\n",
    "parser.add_argument(\"--infer_batch_size\", type=int, default=16,\n",
    "                    help=\"Batch size for inference (validating and testing)\")\n",
    "parser.add_argument(\"--positive_dist_threshold\", type=int, default=25,\n",
    "                    help=\"distance in meters for a prediction to be considered a positive\")\n",
    "# Resume parameters\n",
    "parser.add_argument(\"--resume_train\", type=str, default=None,\n",
    "                    help=\"path to checkpoint to resume, e.g. logs/.../last_checkpoint.pth\")\n",
    "parser.add_argument(\"--resume_model\", type=str, default=None,\n",
    "                    help=\"path to model to resume, e.g. logs/.../best_model.pth\")\n",
    "# Other parameters\n",
    "parser.add_argument(\"--device\", type=str, default=\"cuda\",\n",
    "                    choices=[\"cuda\", \"cpu\"], help=\"_\")\n",
    "parser.add_argument(\"--seed\", type=int, default=0, help=\"_\")\n",
    "parser.add_argument(\"--num_workers\", type=int, default=4, help=\"_\")\n",
    "# Paths parameters\n",
    "parser.add_argument(\"--dataset_folder\", type=str, default=None,\n",
    "                    help=\"path of the folder with train/val/test sets\")\n",
    "parser.add_argument(\"--save_dir\", type=str, default=\"default\",\n",
    "                    help=\"name of directory on which to save the logs, under logs/save_dir\")    \n",
    "# Loss type\n",
    "parser.add_argument(\"--loss_type\", type=str, default=\"cosface\",\n",
    "                    choices=[\"cosface\", \"arcface\", \"sphereface\", \"gamp\"], help=\"type of loss to be used during training\")\n",
    "\n",
    "args = parser.parse_args(\"\")\n",
    "args.save_descriptors = False        \n",
    "\n",
    "print(args)\n",
    "\n",
    "# Now, iterate through all models and consider adding them to the greedy soup.\n",
    "for i, key in enumerate(islice(recalls, NUM_MODELS)):\n",
    "    if i == 0:\n",
    "        # Start the soup by using the first ingredient.\n",
    "        print(f'Init with model {i+1} of {NUM_MODELS}')\n",
    "        greedy_soup_ingredients = [key]\n",
    "        greedy_soup_params = torch.load(recalls[key]['path'])\n",
    "        best_val_acc_so_far = recalls[key][chosen_dataset[0]]\n",
    "    else:\n",
    "        print(f'Testing model {i+1} of {NUM_MODELS}')\n",
    "        # break        \n",
    "        # Get the potential greedy soup, which consists of the greedy soup with the new model added.\n",
    "        new_ingredient_params = torch.load(recalls[key]['path'])\n",
    "        num_ingredients = len(greedy_soup_ingredients)\n",
    "        potential_greedy_soup_params = {\n",
    "            k : greedy_soup_params[k].clone() * (num_ingredients / (num_ingredients + 1.)) + \n",
    "                new_ingredient_params[k].clone() * (1. / (num_ingredients + 1))\n",
    "            for k in new_ingredient_params\n",
    "        }\n",
    "\n",
    "        # Run the potential greedy soup on the held-out val set.\n",
    "        model = network.GeoLocalizationNet(args.backbone, args.fc_output_dim)\n",
    "        model.load_state_dict(potential_greedy_soup_params)\n",
    "        model.to(args.device)\n",
    "        recs, _ = test.test(args, held_out_val_set, model)\n",
    "        held_out_val_accuracy = recs[0]\n",
    "\n",
    "        # If accuracy on the held-out val set increases, add the new model to the greedy soup.\n",
    "        print(f'Potential greedy soup val acc {held_out_val_accuracy}, best so far {best_val_acc_so_far}.')\n",
    "        if held_out_val_accuracy > best_val_acc_so_far:\n",
    "            greedy_soup_ingredients.append(key)\n",
    "            best_val_acc_so_far = held_out_val_accuracy\n",
    "            greedy_soup_params = potential_greedy_soup_params\n",
    "            print(f'Adding to soup. New soup is {greedy_soup_ingredients}')\n",
    "\n",
    "# Finally, evaluate the greedy soup.\n",
    "model = network.GeoLocalizationNet(args.backbone, args.fc_output_dim)\n",
    "model.load_state_dict(greedy_soup_params)\n",
    "model.to(args.device)\n",
    "print(f'Final soup is {greedy_soup_ingredients}')\n",
    "\n",
    "if os.path.exists('greedy_soups.json'):\n",
    "    with open('greedy_soups.json', 'r') as f:\n",
    "        greedy_recalls = json.load(f)\n",
    "else:\n",
    "    greedy_recalls = dict()  \n",
    "\n",
    "greedy_recalls[f'greedy_soup_N{NUM_MODELS}_{TOKYO_XS_DATASET_VAL_PATH.replace(f\"{BASE_DS_PATH}/\", \"\").replace(\"/\", \"_\")}'] = { } \n",
    "\n",
    "for dataset in (train_datasets + test_datasets):\n",
    "    print(f'Evaluating on {dataset}.')\n",
    "    test_dataset = TestDataset(f'{BASE_DS_PATH}/{dataset}/test', queries_folder='queries_v1')\n",
    "    recs, recalls_str = test.test(args, test_dataset, model)\n",
    "    greedy_recalls[f'greedy_soup_N{NUM_MODELS}_{TOKYO_XS_DATASET_VAL_PATH.replace(f\"{BASE_DS_PATH}/\", \"\").replace(\"/\", \"_\")}'][dataset] = recs[0]\n",
    "    print(recs)\n",
    "\n",
    "torch.save(greedy_soup_params, f'{BASE_OUT_PATH}/greedy_soup_N{NUM_MODELS}_{TOKYO_XS_DATASET_VAL_PATH.replace(f\"{BASE_DS_PATH}/\", \"\").replace(\"/\", \"_\")}.pth')\n",
    "with open('greedy_soups.json', 'w') as f:\n",
    "    json.dump(greedy_recalls, f, indent=4)"
   ]
  },
  {
   "cell_type": "code",
   "execution_count": 12,
   "metadata": {},
   "outputs": [
    {
     "name": "stdout",
     "output_type": "stream",
     "text": [
      "Namespace(M=10, alpha=30, N=5, L=2, groups_num=8, min_images_per_class=10, backbone='ResNet18', fc_output_dim=512, use_amp16=False, augmentation_device='cuda', batch_size=32, epochs_num=50, iterations_per_epoch=10000, lr=1e-05, classifiers_lr=0.01, brightness=0.7, contrast=0.7, hue=0.5, saturation=0.7, random_resized_crop=0.5, infer_batch_size=16, positive_dist_threshold=25, resume_train=None, resume_model=None, device='cuda', seed=0, num_workers=4, dataset_folder=None, save_dir='default', loss_type='cosface', save_descriptors=True)\n",
      "Evaluating on sf_xs.\n",
      "Adding to ensemble on sf_xs. New ensemble is ['arcface_cl_lr_e-3'] with recalls (53.5, 65.8, 71.2, 75.0)\n",
      "Adding to ensemble on sf_xs. New ensemble is ['arcface_cl_lr_e-3', 'sphereface_seed_3'] with recalls (53.6, 66.7, 71.2, 75.8)\n",
      "Adding to ensemble on sf_xs. New ensemble is ['arcface_cl_lr_e-3', 'sphereface_seed_3', 'sphereface_standard'] with recalls (53.6, 66.7, 71.3, 75.4)\n",
      "Adding to ensemble on sf_xs. New ensemble is ['arcface_cl_lr_e-3', 'sphereface_seed_3', 'sphereface_standard', 'arcface_standard'] with recalls (53.7, 66.4, 71.8, 75.4)\n",
      "Adding to ensemble on sf_xs. New ensemble is ['arcface_cl_lr_e-3', 'sphereface_seed_3', 'sphereface_standard', 'arcface_standard', 'arcface_seed_3'] with recalls (54.1, 66.0, 71.2, 75.3)\n",
      "Best ensemble on sf_xs: ['arcface_cl_lr_e-3', 'sphereface_seed_3', 'sphereface_standard', 'arcface_standard', 'arcface_seed_3'] with recalls (54.1, 66.0, 71.2, 75.3)\n",
      "Evaluating on tokyo_xs.\n",
      "Adding to ensemble on tokyo_xs. New ensemble is ['sphereface_seed_3'] with recalls (69.84126984126983, 85.39682539682539, 89.52380952380953, 92.38095238095238)\n",
      "Adding to ensemble on tokyo_xs. New ensemble is ['sphereface_seed_3', 'gamp_standard'] with recalls (71.42857142857143, 84.44444444444444, 88.88888888888889, 93.01587301587301)\n",
      "Adding to ensemble on tokyo_xs. New ensemble is ['sphereface_seed_3', 'gamp_standard', 'sphereface_standard'] with recalls (72.06349206349206, 82.53968253968253, 88.25396825396825, 91.42857142857143)\n",
      "Best ensemble on tokyo_xs: ['sphereface_seed_3', 'gamp_standard', 'sphereface_standard'] with recalls (72.06349206349206, 82.53968253968253, 88.25396825396825, 91.42857142857143)\n",
      "Evaluating on tokyo_night.\n",
      "Adding to ensemble on tokyo_night. New ensemble is ['sphereface_seed_3'] with recalls (57.14285714285714, 76.19047619047619, 80.95238095238095, 86.66666666666667)\n",
      "Adding to ensemble on tokyo_night. New ensemble is ['sphereface_seed_3', 'sphereface_standard'] with recalls (58.0952380952381, 65.71428571428571, 75.23809523809524, 83.80952380952381)\n",
      "Best ensemble on tokyo_night: ['sphereface_seed_3', 'sphereface_standard'] with recalls (58.0952380952381, 65.71428571428571, 75.23809523809524, 83.80952380952381)\n"
     ]
    }
   ],
   "source": [
    "import torch\n",
    "from itertools import islice\n",
    "from datasets.test_dataset import TestDataset\n",
    "from model import network\n",
    "import test\n",
    "import argparse\n",
    "\n",
    "NUM_MODELS = 12\n",
    "BASE_DS_PATH = f\"F:/Programmazione/Politecnico/Master's Degree/2nd Year/AML/Project/Datasets\"\n",
    "BASE_OUT_PATH = 'logs/soups_models/ensemble'\n",
    "\n",
    "parser = argparse.ArgumentParser(formatter_class=argparse.ArgumentDefaultsHelpFormatter)\n",
    "# CosPlace Groups parameters\n",
    "parser.add_argument(\"--M\", type=int, default=10, help=\"_\")\n",
    "parser.add_argument(\"--alpha\", type=int, default=30, help=\"_\")\n",
    "parser.add_argument(\"--N\", type=int, default=5, help=\"_\")\n",
    "parser.add_argument(\"--L\", type=int, default=2, help=\"_\")\n",
    "parser.add_argument(\"--groups_num\", type=int, default=8, help=\"_\")\n",
    "parser.add_argument(\"--min_images_per_class\", type=int, default=10, help=\"_\")\n",
    "# Model parameters\n",
    "parser.add_argument(\"--backbone\", type=str, default=\"ResNet18\",\n",
    "                    choices=[\"vgg16\", \"resnet18\", \"resnet50\", \"resnet101\", \"resnet152\"], help=\"_\")\n",
    "parser.add_argument(\"--fc_output_dim\", type=int, default=512,\n",
    "                    help=\"Output dimension of final fully connected layer\")\n",
    "# Training parameters\n",
    "parser.add_argument(\"--use_amp16\", action=\"store_true\",\n",
    "                    help=\"use Automatic Mixed Precision\")\n",
    "parser.add_argument(\"--augmentation_device\", type=str, default=\"cuda\",\n",
    "                    choices=[\"cuda\", \"cpu\"],\n",
    "                    help=\"on which device to run data augmentation\")\n",
    "parser.add_argument(\"--batch_size\", type=int, default=32, help=\"_\")\n",
    "parser.add_argument(\"--epochs_num\", type=int, default=50, help=\"_\")\n",
    "parser.add_argument(\"--iterations_per_epoch\", type=int, default=10000, help=\"_\")\n",
    "parser.add_argument(\"--lr\", type=float, default=0.00001, help=\"_\")\n",
    "parser.add_argument(\"--classifiers_lr\", type=float, default=0.01, help=\"_\")\n",
    "# Data augmentation\n",
    "parser.add_argument(\"--brightness\", type=float, default=0.7, help=\"_\")\n",
    "parser.add_argument(\"--contrast\", type=float, default=0.7, help=\"_\")\n",
    "parser.add_argument(\"--hue\", type=float, default=0.5, help=\"_\")\n",
    "parser.add_argument(\"--saturation\", type=float, default=0.7, help=\"_\")\n",
    "parser.add_argument(\"--random_resized_crop\", type=float, default=0.5, help=\"_\")\n",
    "# Validation / test parameters\n",
    "parser.add_argument(\"--infer_batch_size\", type=int, default=16,\n",
    "                    help=\"Batch size for inference (validating and testing)\")\n",
    "parser.add_argument(\"--positive_dist_threshold\", type=int, default=25,\n",
    "                    help=\"distance in meters for a prediction to be considered a positive\")\n",
    "# Resume parameters\n",
    "parser.add_argument(\"--resume_train\", type=str, default=None,\n",
    "                    help=\"path to checkpoint to resume, e.g. logs/.../last_checkpoint.pth\")\n",
    "parser.add_argument(\"--resume_model\", type=str, default=None,\n",
    "                    help=\"path to model to resume, e.g. logs/.../best_model.pth\")\n",
    "# Other parameters\n",
    "parser.add_argument(\"--device\", type=str, default=\"cuda\",\n",
    "                    choices=[\"cuda\", \"cpu\"], help=\"_\")\n",
    "parser.add_argument(\"--seed\", type=int, default=0, help=\"_\")\n",
    "parser.add_argument(\"--num_workers\", type=int, default=4, help=\"_\")\n",
    "# Paths parameters\n",
    "parser.add_argument(\"--dataset_folder\", type=str, default=None,\n",
    "                    help=\"path of the folder with train/val/test sets\")\n",
    "parser.add_argument(\"--save_dir\", type=str, default=\"default\",\n",
    "                    help=\"name of directory on which to save the logs, under logs/save_dir\")    \n",
    "# Loss type\n",
    "parser.add_argument(\"--loss_type\", type=str, default=\"cosface\",\n",
    "                    choices=[\"cosface\", \"arcface\", \"sphereface\", \"gamp\"], help=\"type of loss to be used during training\")\n",
    "\n",
    "args = parser.parse_args(\"\")\n",
    "\n",
    "args.save_descriptors = True    \n",
    "\n",
    "print(args)\n",
    "\n",
    "if os.path.exists('ensembles.json'):\n",
    "    with open('ensembles.json', 'r') as f:\n",
    "        ensembles_recalls = json.load(f) \n",
    "else:\n",
    "    ensembles_recalls = dict() \n",
    "ensembles_recalls[f'descriptors_{NUM_MODELS}'] = { }\n",
    "\n",
    "for dataset in (train_datasets + test_datasets):\n",
    "    recalls = dict(sorted(recalls.items(), key=lambda i: i[1][dataset], reverse=True))\n",
    "    print(f'Evaluating on {dataset}.')\n",
    "\n",
    "    descriptors = None\n",
    "    models = list()\n",
    "    best_recs = None\n",
    "\n",
    "    for i, key in enumerate(islice(recalls, NUM_MODELS)):\n",
    "        if not os.path.exists(recalls[key]['path'].replace('best_model.pth', f'{dataset}/')):\n",
    "            print(f\"Creating directory {recalls[key]['path'].replace('best_model.pth', f'{dataset}/')}\")\n",
    "            os.mkdir(recalls[key]['path'].replace('best_model.pth', f'{dataset}/'))\n",
    "\n",
    "        if i == 0:\n",
    "            # print(f'Use descriptors from model {key} ({i + 1} out of {NUM_MODELS})')\n",
    "            try:\n",
    "                descriptors = torch.load(recalls[key]['path'].replace('best_model.pth', f'{dataset}/descriptors.pth'))\n",
    "            except FileNotFoundError:\n",
    "                model = network.GeoLocalizationNet(args.backbone, args.fc_output_dim)\n",
    "                model.load_state_dict(torch.load(recalls[key]['path']))\n",
    "                model.to(args.device)\n",
    "                test_dataset = TestDataset(f'{BASE_DS_PATH}/{dataset}/test', queries_folder='queries_v1')\n",
    "                _, __ = test.test(args, test_dataset, model, recalls[key]['path'].replace('best_model.pth', dataset))\n",
    "                descriptors = torch.load(recalls[key]['path'].replace('best_model.pth', f'{dataset}/descriptors.pth'))\n",
    "        else:\n",
    "            # print(f'Use descriptors from model {key} ({i + 1} out of {NUM_MODELS})')\n",
    "            try:\n",
    "                to_add = torch.load(recalls[key]['path'].replace('best_model.pth', f'{dataset}/descriptors.pth'))\n",
    "            except FileNotFoundError:\n",
    "                model = network.GeoLocalizationNet(args.backbone, args.fc_output_dim)\n",
    "                model.load_state_dict(torch.load(recalls[key]['path']))\n",
    "                model.to(args.device)\n",
    "                test_dataset = TestDataset(f'{BASE_DS_PATH}/{dataset}/test', queries_folder='queries_v1')\n",
    "                _, __ = test.test(args, test_dataset, model, recalls[key]['path'].replace('best_model.pth', dataset))\n",
    "                to_add = torch.load(recalls[key]['path'].replace('best_model.pth', f'{dataset}/descriptors.pth'))\n",
    "            descriptors += to_add \n",
    "\n",
    "        test_dataset = TestDataset(f'{BASE_DS_PATH}/{dataset}/test', queries_folder='queries_v1')\n",
    "        predictions = test.get_predictions(test_dataset, args.fc_output_dim, descriptors/(float(i+1)))   \n",
    "        recs = test.evaluate_predictions(predictions, test_dataset)\n",
    "        recs = tuple(recs / test_dataset.queries_num * 100)\n",
    "        # print(f'Results on ensemble of {models + [key]}: {recs}')\n",
    "\n",
    "        if best_recs is None or recs > best_recs:\n",
    "            models.append(key)\n",
    "            best_recs = recs\n",
    "            best_descriptors = descriptors\n",
    "            print(f'Adding to ensemble on {dataset}. New ensemble is {models} with recalls {recs}')\n",
    "\n",
    "    print(f'Best ensemble on {dataset}: {models} with recalls {best_recs}')\n",
    "    best_descriptors = best_descriptors / float(NUM_MODELS)\n",
    "    torch.save(best_descriptors, f'{BASE_OUT_PATH}/descriptors_{NUM_MODELS}_{dataset}_test.pth')\n",
    "    \n",
    "    ensembles_recalls[f'descriptors_{NUM_MODELS}'][dataset] = best_recs[0]\n",
    "\n",
    "    with open('ensembles.json', 'w') as f:\n",
    "        json.dump(ensembles_recalls, f, indent=4)"
   ]
  },
  {
   "cell_type": "code",
   "execution_count": 20,
   "metadata": {},
   "outputs": [
    {
     "name": "stdout",
     "output_type": "stream",
     "text": [
      "Evaluating on sf_xs.\n"
     ]
    },
    {
     "name": "stderr",
     "output_type": "stream",
     "text": [
      "100%|███████████████████████████████████████████████████████████| 1700/1700 [03:03<00:00,  9.25it/s]\n",
      "100%|███████████████████████████████████████████████████████████| 1000/1000 [00:23<00:00, 42.34it/s]\n"
     ]
    },
    {
     "name": "stdout",
     "output_type": "stream",
     "text": [
      "[48.5 63.2 68.2 72.2]\n",
      "Evaluating on tokyo_xs.\n"
     ]
    },
    {
     "name": "stderr",
     "output_type": "stream",
     "text": [
      "100%|█████████████████████████████████████████████████████████████| 799/799 [02:10<00:00,  6.11it/s]\n",
      "100%|█████████████████████████████████████████████████████████████| 315/315 [00:15<00:00, 20.95it/s]\n"
     ]
    },
    {
     "name": "stdout",
     "output_type": "stream",
     "text": [
      "[70.47619048 85.3968254  87.93650794 90.79365079]\n",
      "Evaluating on tokyo_night.\n"
     ]
    },
    {
     "name": "stderr",
     "output_type": "stream",
     "text": [
      "100%|█████████████████████████████████████████████████████████████| 799/799 [01:46<00:00,  7.51it/s]\n",
      "100%|█████████████████████████████████████████████████████████████| 105/105 [00:12<00:00,  8.53it/s]\n"
     ]
    },
    {
     "name": "stdout",
     "output_type": "stream",
     "text": [
      "[58.0952381  72.38095238 77.14285714 81.9047619 ]\n",
      "Evaluating on sf_xs.\n"
     ]
    },
    {
     "name": "stderr",
     "output_type": "stream",
     "text": [
      "100%|███████████████████████████████████████████████████████████| 1700/1700 [03:01<00:00,  9.38it/s]\n",
      "100%|███████████████████████████████████████████████████████████| 1000/1000 [00:22<00:00, 43.77it/s]\n"
     ]
    },
    {
     "name": "stdout",
     "output_type": "stream",
     "text": [
      "[50.3 64.9 69.  73. ]\n",
      "Evaluating on tokyo_xs.\n"
     ]
    },
    {
     "name": "stderr",
     "output_type": "stream",
     "text": [
      "100%|█████████████████████████████████████████████████████████████| 799/799 [01:40<00:00,  7.97it/s]\n",
      "100%|█████████████████████████████████████████████████████████████| 315/315 [00:14<00:00, 21.77it/s]\n"
     ]
    },
    {
     "name": "stdout",
     "output_type": "stream",
     "text": [
      "[70.79365079 83.80952381 88.25396825 93.01587302]\n",
      "Evaluating on tokyo_night.\n"
     ]
    },
    {
     "name": "stderr",
     "output_type": "stream",
     "text": [
      "100%|█████████████████████████████████████████████████████████████| 799/799 [01:41<00:00,  7.87it/s]\n",
      "100%|█████████████████████████████████████████████████████████████| 105/105 [00:12<00:00,  8.48it/s]\n"
     ]
    },
    {
     "name": "stdout",
     "output_type": "stream",
     "text": [
      "[56.19047619 69.52380952 78.0952381  88.57142857]\n",
      "Evaluating on sf_xs.\n"
     ]
    },
    {
     "name": "stderr",
     "output_type": "stream",
     "text": [
      "100%|███████████████████████████████████████████████████████████| 1700/1700 [02:59<00:00,  9.49it/s]\n",
      "100%|███████████████████████████████████████████████████████████| 1000/1000 [00:23<00:00, 42.30it/s]\n"
     ]
    },
    {
     "name": "stdout",
     "output_type": "stream",
     "text": [
      "[52.4 65.8 70.7 74.8]\n",
      "Evaluating on tokyo_xs.\n"
     ]
    },
    {
     "name": "stderr",
     "output_type": "stream",
     "text": [
      "100%|█████████████████████████████████████████████████████████████| 799/799 [01:46<00:00,  7.48it/s]\n",
      "100%|█████████████████████████████████████████████████████████████| 315/315 [00:15<00:00, 21.00it/s]\n"
     ]
    },
    {
     "name": "stdout",
     "output_type": "stream",
     "text": [
      "[69.20634921 84.12698413 87.3015873  92.6984127 ]\n",
      "Evaluating on tokyo_night.\n"
     ]
    },
    {
     "name": "stderr",
     "output_type": "stream",
     "text": [
      "100%|█████████████████████████████████████████████████████████████| 799/799 [01:44<00:00,  7.67it/s]\n",
      "100%|█████████████████████████████████████████████████████████████| 105/105 [00:12<00:00,  8.51it/s]\n"
     ]
    },
    {
     "name": "stdout",
     "output_type": "stream",
     "text": [
      "[47.61904762 71.42857143 75.23809524 83.80952381]\n",
      "Evaluating on sf_xs.\n"
     ]
    },
    {
     "name": "stderr",
     "output_type": "stream",
     "text": [
      "100%|███████████████████████████████████████████████████████████| 1700/1700 [02:56<00:00,  9.62it/s]\n",
      "100%|███████████████████████████████████████████████████████████| 1000/1000 [00:23<00:00, 42.31it/s]\n"
     ]
    },
    {
     "name": "stdout",
     "output_type": "stream",
     "text": [
      "[52.1 66.3 71.1 75.3]\n",
      "Evaluating on tokyo_xs.\n"
     ]
    },
    {
     "name": "stderr",
     "output_type": "stream",
     "text": [
      "100%|█████████████████████████████████████████████████████████████| 799/799 [01:46<00:00,  7.54it/s]\n",
      "100%|█████████████████████████████████████████████████████████████| 315/315 [00:14<00:00, 21.01it/s]\n"
     ]
    },
    {
     "name": "stdout",
     "output_type": "stream",
     "text": [
      "[69.20634921 83.17460317 88.57142857 93.33333333]\n",
      "Evaluating on tokyo_night.\n"
     ]
    },
    {
     "name": "stderr",
     "output_type": "stream",
     "text": [
      "100%|█████████████████████████████████████████████████████████████| 799/799 [01:45<00:00,  7.56it/s]\n",
      "100%|█████████████████████████████████████████████████████████████| 105/105 [00:12<00:00,  8.48it/s]"
     ]
    },
    {
     "name": "stdout",
     "output_type": "stream",
     "text": [
      "[48.57142857 69.52380952 78.0952381  84.76190476]\n"
     ]
    },
    {
     "name": "stderr",
     "output_type": "stream",
     "text": [
      "\n"
     ]
    }
   ],
   "source": [
    "for m in os.listdir('logs/soups_models/greedy'):\n",
    "    greedy_soup_params = torch.load(f'logs/soups_models/greedy/{m}')\n",
    "    model = network.GeoLocalizationNet(args.backbone, args.fc_output_dim)\n",
    "    model.load_state_dict(greedy_soup_params)\n",
    "    model.to(args.device)\n",
    "\n",
    "    if os.path.exists('greedy_soups.json'):\n",
    "        with open('greedy_soups.json', 'r') as f:\n",
    "            greedy_recalls = json.load(f) \n",
    "    else:\n",
    "        greedy_recalls = dict()\n",
    "    greedy_recalls[m.replace('.pth', '')] = { } \n",
    "\n",
    "    for dataset in (train_datasets + test_datasets):\n",
    "        print(f'Evaluating on {dataset}.')\n",
    "        test_dataset = TestDataset(f'{BASE_DS_PATH}/{dataset}/test', queries_folder='queries_v1')\n",
    "        recs, recalls_str = test.test(args, test_dataset, model)\n",
    "        greedy_recalls[m.replace('.pth', '')][dataset] = recs[0]\n",
    "        print(recs)\n",
    "\n",
    "    with open('greedy_soups.json', 'w') as f:\n",
    "        json.dump(greedy_recalls, f, indent=4)"
   ]
  },
  {
   "cell_type": "code",
   "execution_count": 1,
   "metadata": {},
   "outputs": [
    {
     "data": {
      "image/png": "[encoded data removed]",
      "text/plain": [
       "<Figure size 800x600 with 1 Axes>"
      ]
     },
     "metadata": {},
     "output_type": "display_data"
    }
   ],
   "source": [
    "from matplotlib import pyplot as plt\n",
    "import json\n",
    "\n",
    "datasets = ['sf_xs', 'tokyo_xs', 'tokyo_night']\n",
    "\n",
    "with open('../results/individual_models.json', 'r') as f:\n",
    "    individual_models = json.load(f)\n",
    "\n",
    "individual_model_db = { d: [individual_models[k][d] for k in individual_models] for d in datasets }\n",
    "individual_model_db['OOD'] = [1./len(datasets) * sum(individual_model_db[d][i] for d in datasets) for i, _ in enumerate(individual_models)]\n",
    "\n",
    "with open('../results/uniform_soups.json', 'r') as f:\n",
    "    uniform_soups = json.load(f)\n",
    "\n",
    "uniform_soup_db = { d: [uniform_soups[k][d] for k in uniform_soups] for d in datasets }\n",
    "uniform_soup_db['OOD'] = [1./len(datasets) * sum(uniform_soup_db[d][i] for d in datasets) for i, _ in enumerate(uniform_soups)]\n",
    "\n",
    "with open('../results/greedy_soups.json', 'r') as f:\n",
    "    greedy_soups = json.load(f)\n",
    "\n",
    "greedy_soup_db = { d: [greedy_soups[k][d] for k in greedy_soups] for d in datasets }\n",
    "greedy_soup_db['OOD'] = [1./len(datasets) * sum(greedy_soup_db[d][i] for d in datasets) for i, _ in enumerate(greedy_soups)]\n",
    "    \n",
    "with open('../results/ensembles.json', 'r') as f:\n",
    "    ensembles = json.load(f)\n",
    "\n",
    "ensemble_db = { d: [ensembles[k][d] for k in ensembles] for d in datasets }\n",
    "ensemble_db['OOD'] = [1./len(datasets) * sum(ensemble_db[d][i] for d in datasets) for i, _ in enumerate(ensembles)]\n",
    "\n",
    "fig = plt.figure(constrained_layout=True, figsize=(8, 6))\n",
    "ax = fig.subplots()\n",
    "\n",
    "ax.scatter(\n",
    "    greedy_soup_db['sf_xs'], \n",
    "    greedy_soup_db['OOD'], \n",
    "    marker='*', \n",
    "    color='C4',\n",
    "    s=400,\n",
    "    label='Greedy Soup',\n",
    "    zorder=10\n",
    ")\n",
    "\n",
    "ax.scatter(\n",
    "    ensemble_db['sf_xs'], \n",
    "    ensemble_db['OOD'], \n",
    "    marker='s', \n",
    "    color='C3',\n",
    "    s=90,\n",
    "    label='Ensemble (more compute)',\n",
    "    zorder=10\n",
    ")\n",
    "\n",
    "ax.scatter(\n",
    "    uniform_soup_db['sf_xs'], \n",
    "    uniform_soup_db['OOD'], \n",
    "    marker='o', \n",
    "    color='C0',\n",
    "    s=200,\n",
    "    label='Uniform Soup',\n",
    "    zorder=10\n",
    ")\n",
    "\n",
    "base_idx = list(individual_models).index('cosface_standard')\n",
    "\n",
    "ax.scatter(\n",
    "    individual_model_db['sf_xs'][0:base_idx] + individual_model_db['sf_xs'][base_idx+1:], \n",
    "    individual_model_db['OOD'][0:base_idx] + individual_model_db['OOD'][base_idx+1:], \n",
    "    marker='d', \n",
    "    color='C2',\n",
    "    s=130,\n",
    "    label='Various hyperparameters',\n",
    "    zorder=10\n",
    ")\n",
    "\n",
    "ax.scatter(\n",
    "    individual_model_db['sf_xs'][base_idx], \n",
    "    individual_model_db['OOD'][base_idx], \n",
    "    marker='x', \n",
    "    color='C2',\n",
    "    s=130,\n",
    "    label='Base cosface',\n",
    "    zorder=10\n",
    ")\n",
    "\n",
    "ax.set_ylabel('Avg. accuracy (R@1) on sf_xs, tokyo_xs, tokyo_night', fontsize=12)\n",
    "ax.set_xlabel('Accuracy (R@1)  on sf_xs', fontsize=12)\n",
    "ax.grid()\n",
    "ax.legend(fontsize=13)\n",
    "plt.savefig('../results/soups.png', bbox_inches='tight')"
   ]
  }
 ],
 "metadata": {
  "kernelspec": {
   "display_name": "venv",
   "language": "python",
   "name": "python3"
  },
  "language_info": {
   "codemirror_mode": {
    "name": "ipython",
    "version": 3
   },
   "file_extension": ".py",
   "mimetype": "text/x-python",
   "name": "python",
   "nbconvert_exporter": "python",
   "pygments_lexer": "ipython3",
   "version": "3.10.2"
  },
  "orig_nbformat": 4,
  "vscode": {
   "interpreter": {
    "hash": "72997d14fd8ffc090d6e7fa95150c84a37fb308e1996f5a58d125d924de947dc"
   }
  }
 },
 "nbformat": 4,
 "nbformat_minor": 2
}
