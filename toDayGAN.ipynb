{
 "cells": [
  {
   "cell_type": "code",
   "execution_count": 2,
   "metadata": {},
   "outputs": [
    {
     "name": "stderr",
     "output_type": "stream",
     "text": [
      "100%|█████████████████████████████████████████████████████████████| 799/799 [01:46<00:00,  7.48it/s]\n",
      "100%|█████████████████████████████████████████████████████████████| 105/105 [00:12<00:00,  8.59it/s]"
     ]
    },
    {
     "name": "stdout",
     "output_type": "stream",
     "text": [
      "[11.42857143 22.85714286 32.38095238 51.42857143]\n"
     ]
    },
    {
     "name": "stderr",
     "output_type": "stream",
     "text": [
      "\n"
     ]
    }
   ],
   "source": [
    "from datasets.test_dataset import TestDataset\n",
    "import test\n",
    "from model import network\n",
    "import argparse\n",
    "import torch\n",
    "\n",
    "parser = argparse.ArgumentParser(formatter_class=argparse.ArgumentDefaultsHelpFormatter)\n",
    "# CosPlace Groups parameters\n",
    "parser.add_argument(\"--M\", type=int, default=10, help=\"_\")\n",
    "parser.add_argument(\"--alpha\", type=int, default=30, help=\"_\")\n",
    "parser.add_argument(\"--N\", type=int, default=5, help=\"_\")\n",
    "parser.add_argument(\"--L\", type=int, default=2, help=\"_\")\n",
    "parser.add_argument(\"--groups_num\", type=int, default=8, help=\"_\")\n",
    "parser.add_argument(\"--min_images_per_class\", type=int, default=10, help=\"_\")\n",
    "# Model parameters\n",
    "parser.add_argument(\"--backbone\", type=str, default=\"ResNet18\",\n",
    "                    choices=[\"vgg16\", \"resnet18\", \"resnet50\", \"resnet101\", \"resnet152\"], help=\"_\")\n",
    "parser.add_argument(\"--fc_output_dim\", type=int, default=512,\n",
    "                    help=\"Output dimension of final fully connected layer\")\n",
    "# Training parameters\n",
    "parser.add_argument(\"--use_amp16\", action=\"store_true\",\n",
    "                    help=\"use Automatic Mixed Precision\")\n",
    "parser.add_argument(\"--augmentation_device\", type=str, default=\"cuda\",\n",
    "                    choices=[\"cuda\", \"cpu\"],\n",
    "                    help=\"on which device to run data augmentation\")\n",
    "parser.add_argument(\"--batch_size\", type=int, default=32, help=\"_\")\n",
    "parser.add_argument(\"--epochs_num\", type=int, default=50, help=\"_\")\n",
    "parser.add_argument(\"--iterations_per_epoch\", type=int, default=10000, help=\"_\")\n",
    "parser.add_argument(\"--lr\", type=float, default=0.00001, help=\"_\")\n",
    "parser.add_argument(\"--classifiers_lr\", type=float, default=0.01, help=\"_\")\n",
    "# Data augmentation\n",
    "parser.add_argument(\"--brightness\", type=float, default=0.7, help=\"_\")\n",
    "parser.add_argument(\"--contrast\", type=float, default=0.7, help=\"_\")\n",
    "parser.add_argument(\"--hue\", type=float, default=0.5, help=\"_\")\n",
    "parser.add_argument(\"--saturation\", type=float, default=0.7, help=\"_\")\n",
    "parser.add_argument(\"--random_resized_crop\", type=float, default=0.5, help=\"_\")\n",
    "# Validation / test parameters\n",
    "parser.add_argument(\"--infer_batch_size\", type=int, default=16,\n",
    "                    help=\"Batch size for inference (validating and testing)\")\n",
    "parser.add_argument(\"--positive_dist_threshold\", type=int, default=25,\n",
    "                    help=\"distance in meters for a prediction to be considered a positive\")\n",
    "# Resume parameters\n",
    "parser.add_argument(\"--resume_train\", type=str, default=None,\n",
    "                    help=\"path to checkpoint to resume, e.g. logs/.../last_checkpoint.pth\")\n",
    "parser.add_argument(\"--resume_model\", type=str, default=None,\n",
    "                    help=\"path to model to resume, e.g. logs/.../best_model.pth\")\n",
    "# Other parameters\n",
    "parser.add_argument(\"--device\", type=str, default=\"cuda\",\n",
    "                    choices=[\"cuda\", \"cpu\"], help=\"_\")\n",
    "parser.add_argument(\"--seed\", type=int, default=0, help=\"_\")\n",
    "parser.add_argument(\"--num_workers\", type=int, default=4, help=\"_\")\n",
    "# Paths parameters\n",
    "parser.add_argument(\"--dataset_folder\", type=str, default=None,\n",
    "                    help=\"path of the folder with train/val/test sets\")\n",
    "parser.add_argument(\"--save_dir\", type=str, default=\"default\",\n",
    "                    help=\"name of directory on which to save the logs, under logs/save_dir\")    \n",
    "# Loss type\n",
    "parser.add_argument(\"--loss_type\", type=str, default=\"cosface\",\n",
    "                    choices=[\"cosface\", \"arcface\", \"sphereface\", \"gamp\"], help=\"type of loss to be used during training\")\n",
    "\n",
    "parser.add_argument(\"--save_descriptors\", action=\"store_true\", help=\"store descriptors into output folder if true\") \n",
    "parser.add_argument(\"--aggregate_by\", type=str, default=\"greedy_soup\", choices=[\"uniform_soup\", \"greedy_soup\", \"uniform_ensemble\", \"greedy_ensemble\"], help=\"type of loss to be used during training\")\n",
    "parser.add_argument('--model_paths', nargs='+', help='Ordered list of paths to be used in soups/ensembles')\n",
    "    \n",
    "args = parser.parse_args(\"\")\n",
    "\n",
    "BASE_DS_PATH = f\"F:/Programmazione/Politecnico/Master's Degree/2nd Year/AML/Project/Datasets\"\n",
    "dataset = 'tokyo_night'\n",
    "\n",
    "model = network.GeoLocalizationNet(args.backbone, args.fc_output_dim)\n",
    "model.load_state_dict(torch.load(\"logs/train_cosface/2023-01-06_10-23-42/best_model.pth\"))\n",
    "model.to(args.device)\n",
    "\n",
    "# test_dataset = TestDataset(f'{BASE_DS_PATH}/{dataset}/test', queries_folder='queries_v1')\n",
    "# recs, recalls_str = test.test(args, test_dataset, model)\n",
    "# print(recs)\n",
    "\n",
    "test_dataset = TestDataset(f'{BASE_DS_PATH}/{dataset}/test', queries_folder='queries_toDay2')\n",
    "recs, recalls_str = test.test(args, test_dataset, model)\n",
    "print(recs)"
   ]
  }
 ],
 "metadata": {
  "kernelspec": {
   "display_name": "venv",
   "language": "python",
   "name": "python3"
  },
  "language_info": {
   "codemirror_mode": {
    "name": "ipython",
    "version": 3
   },
   "file_extension": ".py",
   "mimetype": "text/x-python",
   "name": "python",
   "nbconvert_exporter": "python",
   "pygments_lexer": "ipython3",
   "version": "3.10.2 (tags/v3.10.2:a58ebcc, Jan 17 2022, 14:12:15) [MSC v.1929 64 bit (AMD64)]"
  },
  "orig_nbformat": 4,
  "vscode": {
   "interpreter": {
    "hash": "72997d14fd8ffc090d6e7fa95150c84a37fb308e1996f5a58d125d924de947dc"
   }
  }
 },
 "nbformat": 4,
 "nbformat_minor": 2
}
